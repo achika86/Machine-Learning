{
 "cells": [
  {
   "cell_type": "markdown",
   "id": "d0c9b3a1",
   "metadata": {},
   "source": [
    "# Building a movie recommender with Naïve Bayes"
   ]
  },
  {
   "cell_type": "markdown",
   "id": "06dfaa18",
   "metadata": {},
   "source": [
    "We herein use a movie rating dataset (https://grouplens.org/datasets/movielens/). The movie rating “data was collected by the GroupLens Research group from the MovieLens website (http://movielens.org).\n",
    "For demonstration purposes, we will use the stable small dataset, MovieLens 1M Dataset (which can be downloaded from https://files.grouplens.org/datasets/movielens/ml-1m.zip or https://grouplens.org/datasets/movielens/1m/) for ml-1m.zip (size: 1 MB) file). It has around 1 million ratings, ranging from 1 to 5 with half-star increments, given by 6,040 users on 3,706 movies (last updated September 2018).\n",
    "Unzip the ml-1m.zip file and you will see the following four files:\n",
    "\n",
    "movies.dat: It contains the movie information in the format of MovieID::Title::Genres.\n",
    "ratings.dat: It contains user movie ratings in the format of UserID::MovieID::Rating::Timestamp. We will only be using data from this file in this chapter.\n",
    "users.dat: It contains user information in the format of UserID::Gender::Age::Occupation::Zip-code.\n",
    "README\n",
    "\n",
    "Let’s attempt to predict whether a user likes a particular movie based on how they rate other movies (again, ratings are from 1 to 5).\n",
    "\n",
    "     \n"
   ]
  },
  {
   "cell_type": "markdown",
   "id": "b3750f1d",
   "metadata": {},
   "source": [
    "# Preparing the Data"
   ]
  },
  {
   "cell_type": "markdown",
   "id": "7a22ff20",
   "metadata": {},
   "source": [
    "First, we import all the necessary modules and read the ratings.dat \n",
    "into a pandas DataFrame object\n",
    "\n"
   ]
  },
  {
   "cell_type": "code",
   "execution_count": 71,
   "id": "43bf34d4",
   "metadata": {},
   "outputs": [],
   "source": [
    "import numpy as np\n",
    "import pandas as pd\n"
   ]
  },
  {
   "cell_type": "code",
   "execution_count": 72,
   "id": "7768f39a",
   "metadata": {},
   "outputs": [],
   "source": [
    "data_path = '~/Desktop/ml-1m /ratings.dat'"
   ]
  },
  {
   "cell_type": "code",
   "execution_count": 73,
   "id": "16b7f152",
   "metadata": {},
   "outputs": [
    {
     "data": {
      "text/html": [
       "<div>\n",
       "<style scoped>\n",
       "    .dataframe tbody tr th:only-of-type {\n",
       "        vertical-align: middle;\n",
       "    }\n",
       "\n",
       "    .dataframe tbody tr th {\n",
       "        vertical-align: top;\n",
       "    }\n",
       "\n",
       "    .dataframe thead th {\n",
       "        text-align: right;\n",
       "    }\n",
       "</style>\n",
       "<table border=\"1\" class=\"dataframe\">\n",
       "  <thead>\n",
       "    <tr style=\"text-align: right;\">\n",
       "      <th></th>\n",
       "      <th>user_id</th>\n",
       "      <th>movie_id</th>\n",
       "      <th>rating</th>\n",
       "      <th>timestamp</th>\n",
       "    </tr>\n",
       "  </thead>\n",
       "  <tbody>\n",
       "    <tr>\n",
       "      <th>0</th>\n",
       "      <td>1</td>\n",
       "      <td>1193</td>\n",
       "      <td>5</td>\n",
       "      <td>978300760</td>\n",
       "    </tr>\n",
       "    <tr>\n",
       "      <th>1</th>\n",
       "      <td>1</td>\n",
       "      <td>661</td>\n",
       "      <td>3</td>\n",
       "      <td>978302109</td>\n",
       "    </tr>\n",
       "    <tr>\n",
       "      <th>2</th>\n",
       "      <td>1</td>\n",
       "      <td>914</td>\n",
       "      <td>3</td>\n",
       "      <td>978301968</td>\n",
       "    </tr>\n",
       "    <tr>\n",
       "      <th>3</th>\n",
       "      <td>1</td>\n",
       "      <td>3408</td>\n",
       "      <td>4</td>\n",
       "      <td>978300275</td>\n",
       "    </tr>\n",
       "    <tr>\n",
       "      <th>4</th>\n",
       "      <td>1</td>\n",
       "      <td>2355</td>\n",
       "      <td>5</td>\n",
       "      <td>978824291</td>\n",
       "    </tr>\n",
       "    <tr>\n",
       "      <th>...</th>\n",
       "      <td>...</td>\n",
       "      <td>...</td>\n",
       "      <td>...</td>\n",
       "      <td>...</td>\n",
       "    </tr>\n",
       "    <tr>\n",
       "      <th>1000204</th>\n",
       "      <td>6040</td>\n",
       "      <td>1091</td>\n",
       "      <td>1</td>\n",
       "      <td>956716541</td>\n",
       "    </tr>\n",
       "    <tr>\n",
       "      <th>1000205</th>\n",
       "      <td>6040</td>\n",
       "      <td>1094</td>\n",
       "      <td>5</td>\n",
       "      <td>956704887</td>\n",
       "    </tr>\n",
       "    <tr>\n",
       "      <th>1000206</th>\n",
       "      <td>6040</td>\n",
       "      <td>562</td>\n",
       "      <td>5</td>\n",
       "      <td>956704746</td>\n",
       "    </tr>\n",
       "    <tr>\n",
       "      <th>1000207</th>\n",
       "      <td>6040</td>\n",
       "      <td>1096</td>\n",
       "      <td>4</td>\n",
       "      <td>956715648</td>\n",
       "    </tr>\n",
       "    <tr>\n",
       "      <th>1000208</th>\n",
       "      <td>6040</td>\n",
       "      <td>1097</td>\n",
       "      <td>4</td>\n",
       "      <td>956715569</td>\n",
       "    </tr>\n",
       "  </tbody>\n",
       "</table>\n",
       "<p>1000209 rows × 4 columns</p>\n",
       "</div>"
      ],
      "text/plain": [
       "         user_id  movie_id  rating  timestamp\n",
       "0              1      1193       5  978300760\n",
       "1              1       661       3  978302109\n",
       "2              1       914       3  978301968\n",
       "3              1      3408       4  978300275\n",
       "4              1      2355       5  978824291\n",
       "...          ...       ...     ...        ...\n",
       "1000204     6040      1091       1  956716541\n",
       "1000205     6040      1094       5  956704887\n",
       "1000206     6040       562       5  956704746\n",
       "1000207     6040      1096       4  956715648\n",
       "1000208     6040      1097       4  956715569\n",
       "\n",
       "[1000209 rows x 4 columns]"
      ]
     },
     "execution_count": 73,
     "metadata": {},
     "output_type": "execute_result"
    }
   ],
   "source": [
    "df = pd.read_csv(data_path,header=None,sep='::',engine='python')\n",
    "df.columns= ['user_id','movie_id','rating','timestamp']\n",
    "df"
   ]
  },
  {
   "cell_type": "markdown",
   "id": "3c7c4235",
   "metadata": {},
   "source": [
    "Now, let’s see how many unique users and movies are in this million-row dataset:\n"
   ]
  },
  {
   "cell_type": "code",
   "execution_count": 74,
   "id": "1911e098",
   "metadata": {},
   "outputs": [],
   "source": [
    "n_users = df['user_id'].nunique()\n",
    "n_movies =df['movie_id'].nunique()\n"
   ]
  },
  {
   "cell_type": "code",
   "execution_count": 75,
   "id": "a7da3ed9",
   "metadata": {},
   "outputs": [
    {
     "name": "stdout",
     "output_type": "stream",
     "text": [
      "Number of users: 6040\n",
      "Number of movies:3706\n"
     ]
    }
   ],
   "source": [
    "print(f\"Number of users: {n_users}\")\n",
    "print(f\"Number of movies:{n_movies}\")"
   ]
  },
  {
   "cell_type": "markdown",
   "id": "9fab2084",
   "metadata": {},
   "source": [
    "Next, we will construct a 6,040 (the number of users) by 3,706 (the number of movies) matrix where each row contains movie ratings from a user, and each column represents a movie, using the following function:\n",
    "\n"
   ]
  },
  {
   "cell_type": "code",
   "execution_count": 76,
   "id": "3acb0dab",
   "metadata": {},
   "outputs": [],
   "source": [
    "def load_user_rating_data(df, n_user,n_movies):\n",
    "    data = np.zeros([n_users, n_movies],dtype=np.intc)\n",
    "    \n",
    "    movie_id_mapping = {}\n",
    "    for user_id,movie_id,rating in zip(df['user_id'],df['movie_id'],df['rating']):\n",
    "        user_id = int(user_id)-1\n",
    "        if movie_id not in movie_id_mapping:\n",
    "            movie_id_mapping[movie_id]=len(movie_id_mapping)\n",
    "        data[user_id,movie_id_mapping[movie_id]]=rating \n",
    "    return data,movie_id_mapping\n",
    "data,movie_id_mapping = load_user_rating_data(df,n_users,n_movies)\n"
   ]
  },
  {
   "cell_type": "markdown",
   "id": "4b0096fe",
   "metadata": {},
   "source": [
    "Besides the rating matrix data, we also record the movie ID to column index mapping. The column index is from 0 to 3,705 as we have 3,706 movies.\n",
    "It is always recommended to analyze the data distribution in order to identify if there is a class imbalance issue in the dataset. We do the following:"
   ]
  },
  {
   "cell_type": "code",
   "execution_count": 77,
   "id": "3a8a0f75",
   "metadata": {},
   "outputs": [
    {
     "name": "stdout",
     "output_type": "stream",
     "text": [
      "Number of rating0:21384031\n",
      "Number of rating1:56174\n",
      "Number of rating2:107557\n",
      "Number of rating3:261197\n",
      "Number of rating4:348971\n",
      "Number of rating5:226310\n"
     ]
    }
   ],
   "source": [
    "values,counts = np.unique(data,return_counts=True)\n",
    "\n",
    "for value, count in zip(values,counts):\n",
    "    print(f'Number of rating{value}:{count}')"
   ]
  },
  {
   "cell_type": "markdown",
   "id": "8708f40a",
   "metadata": {},
   "source": [
    "As you can see, most ratings are unknown; for the known ones, 35% are of rating 4, followed by 26% of rating 3, 23% of rating 5, and then 11% and 6% of ratings 2 and 1, respectively.\n",
    "Since most ratings are unknown, we take the movie with the most known ratings as our target movie for easier prediction validation. We look for rating counts for each movie as follows:\n",
    "\n"
   ]
  },
  {
   "cell_type": "code",
   "execution_count": 78,
   "id": "ffee7b4c",
   "metadata": {},
   "outputs": [
    {
     "name": "stdout",
     "output_type": "stream",
     "text": [
      "movie_id\n",
      "2858    3428\n",
      "260     2991\n",
      "1196    2990\n",
      "1210    2883\n",
      "480     2672\n",
      "        ... \n",
      "3458       1\n",
      "2226       1\n",
      "1815       1\n",
      "398        1\n",
      "2909       1\n",
      "Name: count, Length: 3706, dtype: int64\n"
     ]
    }
   ],
   "source": [
    "print(df['movie_id'].value_counts())"
   ]
  },
  {
   "cell_type": "markdown",
   "id": "5a98d24f",
   "metadata": {},
   "source": [
    "So, the target movie is ID, and we will treat ratings of other movies as features. We only use rows with ratings available for the target movie so we can validate how good the prediction is. We construct the dataset accordingly as follows:\n"
   ]
  },
  {
   "cell_type": "code",
   "execution_count": 79,
   "id": "b9aaac26",
   "metadata": {},
   "outputs": [
    {
     "name": "stdout",
     "output_type": "stream",
     "text": [
      "Shape of X: (3428, 3705)\n",
      "Shape of Y: (3428,)\n"
     ]
    }
   ],
   "source": [
    "target_movie_id =2858\n",
    "X_raw = np.delete(data, movie_id_mapping[target_movie_id], axis=1)\n",
    "Y_raw = data[:,movie_id_mapping[target_movie_id]]\n",
    "X = X_raw[Y_raw >0]\n",
    "Y = Y_raw[Y_raw >0]\n",
    "print ('Shape of X:', X.shape)\n",
    "print ('Shape of Y:', Y.shape)"
   ]
  },
  {
   "cell_type": "markdown",
   "id": "37e172aa",
   "metadata": {},
   "source": [
    "We can consider movies with ratings greater than 3 as being liked (being recommended):\n",
    "\n"
   ]
  },
  {
   "cell_type": "code",
   "execution_count": 80,
   "id": "15df59ed",
   "metadata": {},
   "outputs": [
    {
     "name": "stdout",
     "output_type": "stream",
     "text": [
      "2853 positive samples and 575 negative samples.\n"
     ]
    }
   ],
   "source": [
    "recommend = 3\n",
    "Y[Y <= recommend] = 0\n",
    "Y[Y > recommend] = 1\n",
    "n_pos = (Y == 1).sum()\n",
    "n_neg = (Y == 0).sum()\n",
    "print(f'{n_pos} positive samples and {n_neg} negative samples.')\n",
    "\n"
   ]
  },
  {
   "cell_type": "markdown",
   "id": "728c6275",
   "metadata": {},
   "source": [
    "We use the train_test_split function from scikit-learn to do the random splitting and to preserve the percentage of samples for each class:\n"
   ]
  },
  {
   "cell_type": "code",
   "execution_count": 81,
   "id": "b9a7d08f",
   "metadata": {},
   "outputs": [],
   "source": [
    "from sklearn.model_selection import train_test_split\n",
    "X_train,X_test,Y_train,Y_test = train_test_split(X,Y,\n",
    "                                test_size=0.2,random_state=42)"
   ]
  },
  {
   "cell_type": "markdown",
   "id": "96506739",
   "metadata": {},
   "source": [
    "We check the training and testing sizes as follows:\n"
   ]
  },
  {
   "cell_type": "code",
   "execution_count": 82,
   "id": "3cb20a26",
   "metadata": {},
   "outputs": [
    {
     "name": "stdout",
     "output_type": "stream",
     "text": [
      "2742 686\n"
     ]
    }
   ],
   "source": [
    "print(len(Y_train), len(Y_test))"
   ]
  },
  {
   "cell_type": "markdown",
   "id": "f4ffb98d",
   "metadata": {},
   "source": [
    "Another good thing about the train_test_split function is that the resulting training and testing sets will have the same class ratio.\n",
    "\n"
   ]
  },
  {
   "cell_type": "markdown",
   "id": "937e8726",
   "metadata": {},
   "source": [
    "# Training a Naïve Bayes model"
   ]
  },
  {
   "cell_type": "markdown",
   "id": "40f2b57e",
   "metadata": {},
   "source": [
    "Next, we train a Naïve Bayes model on the training set. You may notice that the values of the input features are from 0 to 5, as opposed to 0 or 1 in our toy example. Hence, we use the MultinomialNB module (https://scikit-learn.org/stable/modules/generated/sklearn.naive_bayes.MultinomialNB.html) from scikit-learn instead of the BernoulliNB module, as MultinomialNB can work with integer features as well as fractional counts. We import the module, initialize a model with a smoothing factor of 1.0 and prior learned from the training set, and train this model against the training set as follows:\n",
    "\n"
   ]
  },
  {
   "cell_type": "code",
   "execution_count": 83,
   "id": "777df67b",
   "metadata": {},
   "outputs": [
    {
     "data": {
      "text/html": [
       "<style>#sk-container-id-2 {color: black;}#sk-container-id-2 pre{padding: 0;}#sk-container-id-2 div.sk-toggleable {background-color: white;}#sk-container-id-2 label.sk-toggleable__label {cursor: pointer;display: block;width: 100%;margin-bottom: 0;padding: 0.3em;box-sizing: border-box;text-align: center;}#sk-container-id-2 label.sk-toggleable__label-arrow:before {content: \"▸\";float: left;margin-right: 0.25em;color: #696969;}#sk-container-id-2 label.sk-toggleable__label-arrow:hover:before {color: black;}#sk-container-id-2 div.sk-estimator:hover label.sk-toggleable__label-arrow:before {color: black;}#sk-container-id-2 div.sk-toggleable__content {max-height: 0;max-width: 0;overflow: hidden;text-align: left;background-color: #f0f8ff;}#sk-container-id-2 div.sk-toggleable__content pre {margin: 0.2em;color: black;border-radius: 0.25em;background-color: #f0f8ff;}#sk-container-id-2 input.sk-toggleable__control:checked~div.sk-toggleable__content {max-height: 200px;max-width: 100%;overflow: auto;}#sk-container-id-2 input.sk-toggleable__control:checked~label.sk-toggleable__label-arrow:before {content: \"▾\";}#sk-container-id-2 div.sk-estimator input.sk-toggleable__control:checked~label.sk-toggleable__label {background-color: #d4ebff;}#sk-container-id-2 div.sk-label input.sk-toggleable__control:checked~label.sk-toggleable__label {background-color: #d4ebff;}#sk-container-id-2 input.sk-hidden--visually {border: 0;clip: rect(1px 1px 1px 1px);clip: rect(1px, 1px, 1px, 1px);height: 1px;margin: -1px;overflow: hidden;padding: 0;position: absolute;width: 1px;}#sk-container-id-2 div.sk-estimator {font-family: monospace;background-color: #f0f8ff;border: 1px dotted black;border-radius: 0.25em;box-sizing: border-box;margin-bottom: 0.5em;}#sk-container-id-2 div.sk-estimator:hover {background-color: #d4ebff;}#sk-container-id-2 div.sk-parallel-item::after {content: \"\";width: 100%;border-bottom: 1px solid gray;flex-grow: 1;}#sk-container-id-2 div.sk-label:hover label.sk-toggleable__label {background-color: #d4ebff;}#sk-container-id-2 div.sk-serial::before {content: \"\";position: absolute;border-left: 1px solid gray;box-sizing: border-box;top: 0;bottom: 0;left: 50%;z-index: 0;}#sk-container-id-2 div.sk-serial {display: flex;flex-direction: column;align-items: center;background-color: white;padding-right: 0.2em;padding-left: 0.2em;position: relative;}#sk-container-id-2 div.sk-item {position: relative;z-index: 1;}#sk-container-id-2 div.sk-parallel {display: flex;align-items: stretch;justify-content: center;background-color: white;position: relative;}#sk-container-id-2 div.sk-item::before, #sk-container-id-2 div.sk-parallel-item::before {content: \"\";position: absolute;border-left: 1px solid gray;box-sizing: border-box;top: 0;bottom: 0;left: 50%;z-index: -1;}#sk-container-id-2 div.sk-parallel-item {display: flex;flex-direction: column;z-index: 1;position: relative;background-color: white;}#sk-container-id-2 div.sk-parallel-item:first-child::after {align-self: flex-end;width: 50%;}#sk-container-id-2 div.sk-parallel-item:last-child::after {align-self: flex-start;width: 50%;}#sk-container-id-2 div.sk-parallel-item:only-child::after {width: 0;}#sk-container-id-2 div.sk-dashed-wrapped {border: 1px dashed gray;margin: 0 0.4em 0.5em 0.4em;box-sizing: border-box;padding-bottom: 0.4em;background-color: white;}#sk-container-id-2 div.sk-label label {font-family: monospace;font-weight: bold;display: inline-block;line-height: 1.2em;}#sk-container-id-2 div.sk-label-container {text-align: center;}#sk-container-id-2 div.sk-container {/* jupyter's `normalize.less` sets `[hidden] { display: none; }` but bootstrap.min.css set `[hidden] { display: none !important; }` so we also need the `!important` here to be able to override the default hidden behavior on the sphinx rendered scikit-learn.org. See: https://github.com/scikit-learn/scikit-learn/issues/21755 */display: inline-block !important;position: relative;}#sk-container-id-2 div.sk-text-repr-fallback {display: none;}</style><div id=\"sk-container-id-2\" class=\"sk-top-container\"><div class=\"sk-text-repr-fallback\"><pre>MultinomialNB()</pre><b>In a Jupyter environment, please rerun this cell to show the HTML representation or trust the notebook. <br />On GitHub, the HTML representation is unable to render, please try loading this page with nbviewer.org.</b></div><div class=\"sk-container\" hidden><div class=\"sk-item\"><div class=\"sk-estimator sk-toggleable\"><input class=\"sk-toggleable__control sk-hidden--visually\" id=\"sk-estimator-id-2\" type=\"checkbox\" checked><label for=\"sk-estimator-id-2\" class=\"sk-toggleable__label sk-toggleable__label-arrow\">MultinomialNB</label><div class=\"sk-toggleable__content\"><pre>MultinomialNB()</pre></div></div></div></div></div>"
      ],
      "text/plain": [
       "MultinomialNB()"
      ]
     },
     "execution_count": 83,
     "metadata": {},
     "output_type": "execute_result"
    }
   ],
   "source": [
    "from sklearn.naive_bayes import MultinomialNB\n",
    "clf = MultinomialNB(alpha=1.0,fit_prior=True)\n",
    "clf.fit(X_train,Y_train)"
   ]
  },
  {
   "cell_type": "markdown",
   "id": "c848fd79",
   "metadata": {},
   "source": [
    "Then, we use the trained model to make predictions on the testing set. We get the predicted probabilities as follows:\n",
    "\n"
   ]
  },
  {
   "cell_type": "code",
   "execution_count": 84,
   "id": "5223cec5",
   "metadata": {},
   "outputs": [
    {
     "name": "stdout",
     "output_type": "stream",
     "text": [
      "[[7.50487439e-23 1.00000000e+00]\n",
      " [1.01806208e-01 8.98193792e-01]\n",
      " [3.57740570e-10 1.00000000e+00]\n",
      " [1.00000000e+00 2.94095407e-16]\n",
      " [1.00000000e+00 2.49760836e-25]\n",
      " [7.62630220e-01 2.37369780e-01]\n",
      " [3.47479627e-05 9.99965252e-01]\n",
      " [2.66075292e-11 1.00000000e+00]\n",
      " [5.88493563e-10 9.99999999e-01]\n",
      " [9.71326867e-09 9.99999990e-01]]\n"
     ]
    }
   ],
   "source": [
    "prediction_prob=clf.predict_proba(X_test)\n",
    "print(prediction_prob[0:10])"
   ]
  },
  {
   "cell_type": "markdown",
   "id": "f403108d",
   "metadata": {},
   "source": [
    "For each testing sample, we output the probability of class 0, followed by the probability of class 1.\n",
    "We get the predicted class for the test set as follows:\n"
   ]
  },
  {
   "cell_type": "code",
   "execution_count": 85,
   "id": "13177a2e",
   "metadata": {},
   "outputs": [
    {
     "name": "stdout",
     "output_type": "stream",
     "text": [
      "[1 1 1 0 0 0 1 1 1 1]\n"
     ]
    }
   ],
   "source": [
    "prediction = clf.predict(X_test)\n",
    "print(prediction[:10])"
   ]
  },
  {
   "cell_type": "markdown",
   "id": "8c05a3ea",
   "metadata": {},
   "source": [
    "Finally, we evaluate the model’s performance with classification accuracy, which is the proportion of correct predictions:"
   ]
  },
  {
   "cell_type": "code",
   "execution_count": 86,
   "id": "65c1c885",
   "metadata": {},
   "outputs": [
    {
     "name": "stdout",
     "output_type": "stream",
     "text": [
      "The accuracy is:71.6%\n"
     ]
    }
   ],
   "source": [
    "accuracy = clf.score(X_test,Y_test)\n",
    "print(f'The accuracy is:{accuracy*100:.1f}%')"
   ]
  },
  {
   "cell_type": "markdown",
   "id": "a156fde1",
   "metadata": {},
   "source": [
    "The classification accuracy is around 72%, which means that the Naïve Bayes classifier we’ve constructed accurately suggests movies to users about three quarters of the time. Ideally, we could also utilize movie genre information from the movies.dat file, and user demographics (gender, age, occupation, and ZIP code) information from the users.dat file. Obviously, movies in similar genres tend to attract similar users, and users of similar demographics likely have similar movie preferences. We will leave it as an exercise for you to explore further.\n",
    "So far, we have covered in depth the first machine learning classifier and evaluated its performance by prediction accuracy. Are there any other classification metrics? Let’s see in the next section.\n"
   ]
  },
  {
   "cell_type": "markdown",
   "id": "755a6d22",
   "metadata": {},
   "source": [
    "# Evaluating classification performance"
   ]
  },
  {
   "cell_type": "markdown",
   "id": "014a7f12",
   "metadata": {},
   "source": [
    "Beyond accuracy, there are several metrics we can use to gain more insight and avoid class imbalance effects. These are as follows:\n",
    "\n",
    "Confusion matrix\n",
    "Precision\n",
    "Recall\n",
    "F1 score\n",
    "The area under the curve\n",
    "\n",
    "A confusion matrix summarizes testing instances by their predicted values and true values, presented as a contingency table:\n",
    "\n",
    "\n",
    "    \n",
    "    \n",
    "\n",
    "Figure 2.8: Contingency table for a confusion matrix\n",
    "    \n",
    "To illustrate this, we can compute the confusion matrix of our Naïve Bayes classifier. We use the confusion_matrix function from scikit-learn to compute it, but it is very easy to code it ourselves:”\n"
   ]
  },
  {
   "cell_type": "code",
   "execution_count": 87,
   "id": "963c1fa7",
   "metadata": {},
   "outputs": [
    {
     "name": "stdout",
     "output_type": "stream",
     "text": [
      "[[ 60  47]\n",
      " [148 431]]\n"
     ]
    }
   ],
   "source": [
    "from sklearn.metrics import confusion_matrix\n",
    "print(confusion_matrix(Y_test,prediction,labels=[0,1]))"
   ]
  },
  {
   "cell_type": "markdown",
   "id": "987e74f6",
   "metadata": {},
   "source": [
    "As you can see from the resulting confusion matrix, there are 47 false positive cases (where the model misinterprets a dislike as a like for a movie), and 148 false negative cases (where it fails to detect a like for a movie). Hence, classification accuracy is just the proportion of all true cases:\n",
    "\n",
    "\n",
    "\n"
   ]
  },
  {
   "cell_type": "markdown",
   "id": "32bfdd83",
   "metadata": {},
   "source": [
    "Let’s compute these three measurements using corresponding functions from scikit-learn, as follows:\n",
    "\n"
   ]
  },
  {
   "cell_type": "code",
   "execution_count": 88,
   "id": "87568146",
   "metadata": {},
   "outputs": [
    {
     "data": {
      "text/plain": [
       "0.9016736401673641"
      ]
     },
     "execution_count": 88,
     "metadata": {},
     "output_type": "execute_result"
    }
   ],
   "source": [
    "from sklearn.metrics import precision_score,recall_score,f1_score\n",
    "precision_score(Y_test,prediction,pos_label=1)"
   ]
  },
  {
   "cell_type": "code",
   "execution_count": 89,
   "id": "7b19a3c9",
   "metadata": {},
   "outputs": [
    {
     "data": {
      "text/plain": [
       "0.7443868739205527"
      ]
     },
     "execution_count": 89,
     "metadata": {},
     "output_type": "execute_result"
    }
   ],
   "source": [
    "recall_score(Y_test,prediction,pos_label=1)"
   ]
  },
  {
   "cell_type": "code",
   "execution_count": 90,
   "id": "492b79f0",
   "metadata": {},
   "outputs": [
    {
     "data": {
      "text/plain": [
       "0.815515610217597"
      ]
     },
     "execution_count": 90,
     "metadata": {},
     "output_type": "execute_result"
    }
   ],
   "source": [
    "f1_score(Y_test,prediction,pos_label=1)"
   ]
  },
  {
   "cell_type": "markdown",
   "id": "e2128158",
   "metadata": {},
   "source": [
    "On the other hand, the negative (dislike) class can also be viewed as positive, depending on the context. For example, assign the 0 class as pos_label and we have the following:\n",
    "\n"
   ]
  },
  {
   "cell_type": "code",
   "execution_count": 91,
   "id": "a3ccd89c",
   "metadata": {},
   "outputs": [
    {
     "data": {
      "text/plain": [
       "0.38095238095238093"
      ]
     },
     "execution_count": 91,
     "metadata": {},
     "output_type": "execute_result"
    }
   ],
   "source": [
    "f1_score(Y_test,prediction,pos_label=0)"
   ]
  },
  {
   "cell_type": "markdown",
   "id": "a8d56ae5",
   "metadata": {},
   "source": [
    "To obtain the precision, recall, and f1 score for each class, instead of exhausting all class labels in the three function calls as shown earlier, a quicker way is to call the classification_report function:\n",
    "\n"
   ]
  },
  {
   "cell_type": "code",
   "execution_count": 92,
   "id": "5409c089",
   "metadata": {},
   "outputs": [
    {
     "name": "stdout",
     "output_type": "stream",
     "text": [
      "              precision    recall  f1-score   support\n",
      "\n",
      "           0       0.29      0.56      0.38       107\n",
      "           1       0.90      0.74      0.82       579\n",
      "\n",
      "    accuracy                           0.72       686\n",
      "   macro avg       0.60      0.65      0.60       686\n",
      "weighted avg       0.81      0.72      0.75       686\n",
      "\n"
     ]
    }
   ],
   "source": [
    "from sklearn.metrics import classification_report\n",
    "report = classification_report(Y_test,prediction)\n",
    "print(report)"
   ]
  },
  {
   "cell_type": "markdown",
   "id": "c8bdf326",
   "metadata": {},
   "source": [
    "Here, weighted avg is the weighted average according to the proportions of the class.\n",
    "The classification report provides a comprehensive view of how the classifier performs on each class. It is, as a result, useful in imbalanced classification, where we can easily obtain high accuracy by simply classifying every sample as the dominant class, while the precision, recall, and f1 score measurements for the minority class, however, will be significantly low.\n",
    "Precision, recall, and the f1 score are also applicable to multiclass classification, where we can simply treat a class we are interested in as a positive case, and any other classes as negative cases.\n",
    "During the process of tweaking a binary classifier (that is, trying out different combinations of hyperparameters, for example, the smoothing factor in our Naïve Bayes classifier), it would be perfect if there was a set of parameters in which the highest averaged and class individual f1 scores are achieved at the same time. It is, however, usually not the case. Sometimes, a model has a higher average f1 score than another model, but a significantly low f1 score for a particular class; sometimes, two models have the same average f1 scores, but one has\n",
    "\n"
   ]
  },
  {
   "cell_type": "markdown",
   "id": "cf11087f",
   "metadata": {},
   "source": [
    "a higher f1 score for one class and a lower score for another class. In situations such as these, how can we judge which model works better? The Area Under the Curve (AUC) of the Receiver Operating Characteristic (ROC) is a consolidated measurement frequently used in binary classification.\n",
    "The ROC curve is a plot of the true positive rate versus the false positive rate at various probability thresholds, ranging from 0 to 1. For a testing sample, if the probability of a positive class is greater than the threshold, then a positive class is assigned; otherwise, we use a negative class. To recap, the true positive rate is equivalent to recall, and the false positive rate is the fraction of negatives that are incorrectly identified as positive. Let’s code and exhibit the ROC curve (under thresholds of 0.0, 0.1, 0.2, …, 1.0) of our model:"
   ]
  },
  {
   "cell_type": "code",
   "execution_count": 93,
   "id": "54e7834c",
   "metadata": {},
   "outputs": [],
   "source": [
    "pos_prob =prediction_prob[:, 1]\n",
    "thresholds = np.arange(0.0,1.1,0.05)\n",
    "true_pos, false_pos =[0]*len(thresholds),[0]*len(thresholds)\n",
    "for pred, y in zip(pos_prob,Y_test):\n",
    "    for i,threshold in enumerate(thresholds):\n",
    "        if pred >= threshold:\n",
    "        # if truth and prediction are both 1 \n",
    "            if y==1:\n",
    "                true_pos[i] += 1\n",
    "            #if truth is 0 while prediction is 1 \n",
    "            else:\n",
    "                false_pos[i] += 1\n",
    "        else:\n",
    "            break"
   ]
  },
  {
   "cell_type": "markdown",
   "id": "57217a01",
   "metadata": {},
   "source": [
    "Then, let’s calculate the true and false positive rates for all threshold settings (remember, there are 516.0 positive testing samples and 1191 negative ones):\n",
    "\n"
   ]
  },
  {
   "cell_type": "code",
   "execution_count": 94,
   "id": "3046fb54",
   "metadata": {},
   "outputs": [],
   "source": [
    "n_pos_test = (Y_test == 1).sum()\n",
    "n_neg_test = (Y_test == 0).sum()\n",
    "true_pos_rate = [tp / n_pos_test for tp in true_pos]\n",
    "false_pos_rate = [fp / n_neg_test for fp in false_pos]\n"
   ]
  },
  {
   "cell_type": "markdown",
   "id": "42753d7e",
   "metadata": {},
   "source": [
    "Now, we can plot the ROC curve with matplotlib:\n"
   ]
  },
  {
   "cell_type": "code",
   "execution_count": 95,
   "id": "000765d1",
   "metadata": {},
   "outputs": [
    {
     "data": {
      "image/png": "[encoded data removed]",
      "text/plain": [
       "<Figure size 640x480 with 1 Axes>"
      ]
     },
     "metadata": {},
     "output_type": "display_data"
    }
   ],
   "source": [
    "import matplotlib.pyplot as plt\n",
    "plt.figure()\n",
    "lw = 2\n",
    "plt.plot(false_pos_rate, true_pos_rate,\n",
    "         color='darkorange', lw=lw)\n",
    "plt.plot([0, 1], [0, 1], color='navy', lw=lw, linestyle='--')\n",
    "plt.xlim([0.0, 1.0])\n",
    "plt.ylim([0.0, 1.05])\n",
    "plt.title('Receiver Operating Characteristic')\n",
    "plt.xlabel('False Positive Rate')\n",
    "plt.ylabel('True Positive Rate')\n",
    "#plt.legend(loc=\"lower right\")\n",
    "plt.show();\n",
    "\n"
   ]
  },
  {
   "cell_type": "markdown",
   "id": "937bd27f",
   "metadata": {},
   "source": [
    "In the graph, the dashed line is the baseline representing random guessing, where the true positive rate increases linearly with the false positive rate; its AUC is 0.5. The solid line is the ROC plot of our model, and its AUC is somewhat less than 1. In a perfect case, the true positive samples have a probability of 1, so that the ROC starts at the point with 100% true positive and 0% false positive. The AUC of such a perfect curve is 1. To compute the exact AUC of our model, we can resort to the roc_auc_score function of scikit-learn:\n",
    "\n"
   ]
  },
  {
   "cell_type": "code",
   "execution_count": 96,
   "id": "0d3f5c50",
   "metadata": {},
   "outputs": [
    {
     "data": {
      "text/plain": [
       "0.6857375752586637"
      ]
     },
     "execution_count": 96,
     "metadata": {},
     "output_type": "execute_result"
    }
   ],
   "source": [
    "from sklearn.metrics import roc_auc_score\n",
    "roc_auc_score(Y_test,pos_prob)"
   ]
  },
  {
   "cell_type": "markdown",
   "id": "ce343caf",
   "metadata": {},
   "source": [
    "What AUC value leads to the conclusion that a classifier is good? Unfortunately, there is no such “magic” number. We use the following rule of thumb as general guidelines: classification models achieving an AUC of 0.7 to 0.8 are considered acceptable, 0.8 to 0.9 are great, and anything above 0.9 are superb. Again, in our case, we are only using the very sparse movie rating data. Hence, an AUC of 0.69 is actually acceptable.\n",
    "\n"
   ]
  },
  {
   "cell_type": "code",
   "execution_count": 97,
   "id": "d838b673",
   "metadata": {},
   "outputs": [],
   "source": [
    "from sklearn.model_selection import StratifiedKFold\n",
    "k =5 \n",
    "k_fold = StratifiedKFold(n_splits=k,random_state=None)"
   ]
  },
  {
   "cell_type": "markdown",
   "id": "06e12fbe",
   "metadata": {},
   "source": [
    "After initializing a 5-fold generator, we choose to explore the following values for the following parameters:\n",
    "\n",
    "**alpha:** This represents the smoothing factor, the initial value for each feature\n",
    "\n",
    "\n",
    "**fit_prior:** This represents whether to use prior tailored to the training data\n",
    "\n",
    "We start with the following options:"
   ]
  },
  {
   "cell_type": "code",
   "execution_count": 98,
   "id": "69326366",
   "metadata": {},
   "outputs": [],
   "source": [
    "smoothing_factor_option = [1,2,3,4,5,6]\n",
    "fit_prior_option = [True,False]\n",
    "auc_record = {}"
   ]
  },
  {
   "cell_type": "markdown",
   "id": "b0e320fd",
   "metadata": {},
   "source": [
    "Then, for each fold generated by the split() method of the k_fold object, we repeat the process of classifier initialization, training, and prediction with one of the aforementioned combinations of parameters, and record the resulting AUCs:\n",
    "\n"
   ]
  },
  {
   "cell_type": "code",
   "execution_count": 99,
   "id": "9637bf85",
   "metadata": {},
   "outputs": [],
   "source": [
    "for train_indices, test_indices in k_fold.split(X, Y):\n",
    "    X_train_k, X_test_k = X[train_indices], X[test_indices]\n",
    "    Y_train_k, Y_test_k = Y[train_indices], Y[test_indices]\n",
    "    \n",
    "    for alpha in smoothing_factor_option:\n",
    "        if alpha not in auc_record:\n",
    "            auc_record[alpha] = {}\n",
    "        \n",
    "        for fit_prior in fit_prior_option:\n",
    "            clf = MultinomialNB(alpha=alpha, fit_prior=fit_prior)\n",
    "            clf.fit(X_train_k, Y_train_k)\n",
    "            prediction_prob = clf.predict_proba(X_test_k)\n",
    "            pos_prob = prediction_prob[:, 1]\n",
    "            auc = roc_auc_score(Y_test_k, pos_prob)\n",
    "            auc_record[alpha][fit_prior] = auc + auc_record[alpha].get(fit_prior, 0.0)\n"
   ]
  },
  {
   "cell_type": "markdown",
   "id": "89967bfb",
   "metadata": {},
   "source": [
    "Finally, we present the results as follows:\n"
   ]
  },
  {
   "cell_type": "code",
   "execution_count": 104,
   "id": "9dbcda65",
   "metadata": {},
   "outputs": [
    {
     "name": "stdout",
     "output_type": "stream",
     "text": [
      " 1 True 0.65647\n",
      " 1 False 0.65708\n",
      " 2 True 0.65795\n",
      " 2 False 0.65823\n",
      " 3 True 0.65740\n",
      " 3 False 0.65801\n",
      " 4 True 0.65808\n",
      " 4 False 0.65795\n",
      " 5 True 0.65814\n",
      " 5 False 0.65694\n",
      " 6 True 0.65663\n",
      " 6 False 0.65719\n"
     ]
    }
   ],
   "source": [
    "for smoothing, smoothing_record in auc_record.items():\n",
    "    for fit_prior, auc in smoothing_record.items():\n",
    "        print(f' {smoothing} {fit_prior} {auc/k:.5f}')"
   ]
  },
  {
   "cell_type": "markdown",
   "id": "2a5ea5fe",
   "metadata": {},
   "source": [
    "The (2, False) set enables the best averaged AUC, at 0.65823.\n",
    "Finally, we retrain the model with the best set of hyperparameters (2, False) and compute the AUC:"
   ]
  },
  {
   "cell_type": "code",
   "execution_count": 105,
   "id": "37cab172",
   "metadata": {},
   "outputs": [
    {
     "name": "stdout",
     "output_type": "stream",
     "text": [
      "AUC with the best model: 0.6862056720417091\n"
     ]
    }
   ],
   "source": [
    "clf = MultinomialNB(alpha=2.0,fit_prior=False)\n",
    "clf.fit(X_train,Y_train)\n",
    "pos_prob = clf.predict_proba(X_test)[:, 1]\n",
    "print('AUC with the best model:',roc_auc_score(Y_test,pos_prob))"
   ]
  },
  {
   "cell_type": "markdown",
   "id": "25d61628",
   "metadata": {},
   "source": [
    "An AUC of 0.686 is achieved with the fine-tuned model. In general, tweaking model hyperparameters using cross-validation is one of the most effective ways to boost learning performance and reduce overfitting.\n",
    "\n"
   ]
  },
  {
   "cell_type": "code",
   "execution_count": null,
   "id": "24987ccb",
   "metadata": {},
   "outputs": [],
   "source": []
  }
 ],
 "metadata": {
  "kernelspec": {
   "display_name": "Python 3 (ipykernel)",
   "language": "python",
   "name": "python3"
  },
  "language_info": {
   "codemirror_mode": {
    "name": "ipython",
    "version": 3
   },
   "file_extension": ".py",
   "mimetype": "text/x-python",
   "name": "python",
   "nbconvert_exporter": "python",
   "pygments_lexer": "ipython3",
   "version": "3.11.5"
  }
 },
 "nbformat": 4,
 "nbformat_minor": 5
}
